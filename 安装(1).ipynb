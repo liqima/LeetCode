{
 "cells": [
  {
   "cell_type": "markdown",
   "metadata": {},
   "source": [
    "# faiss安装"
   ]
  },
  {
   "cell_type": "markdown",
   "metadata": {},
   "source": [
    "#使用Anaconda安装\n",
    "使用Anaconda安装使用faiss是最方便快速的方式，facebook会及时推出faiss的新版本conda安装包，在conda安装时会自行安装所需的libgcc, mkl, numpy模块。\n",
    "faiss的cpu版本目前仅支持Linux和MacOS操作系统，gpu版本提供可在Linux操作系统下用CUDA8.0/CUDA9.0/CUDA9.1编译的版本。\n",
    "注意，上面语句中的cuda90并不会执行安装CUDA的操作，需要提前自行安装。"
   ]
  },
  {
   "cell_type": "code",
   "execution_count": null,
   "metadata": {},
   "outputs": [],
   "source": [
    "#安装cpu版本\n",
    "#更新conda\n",
    "conda update conda\n",
    "#先安装mkl\n",
    "conda install mkl\n",
    "#安装faiss-cpu\n",
    "conda install faiss-cpu -c pytorch\n",
    "#测试安装是否成功\n",
    "python -c \"import faiss\""
   ]
  },
  {
   "cell_type": "code",
   "execution_count": null,
   "metadata": {},
   "outputs": [],
   "source": [
    "#安装gpu版本\n",
    "#确保已经安装了CUDA，否则会自动安装cup版本。\n",
    "conda install faiss-gpu -c pytorch # 默认 For CUDA8.0\n",
    "conda install faiss-gpu cuda90 -c pytorch # For CUDA9.0\n",
    "conda install faiss-gpu cuda91 -c pytorch # For CUDA9.1"
   ]
  },
  {
   "cell_type": "markdown",
   "metadata": {},
   "source": [
    "注意，上面语句中的cuda90/91并不会执行安装CUDA的操作，需要提前自行安装。\n",
    "\n",
    "#编译安装"
   ]
  }
 ],
 "metadata": {
  "kernelspec": {
   "display_name": "Python 2",
   "language": "python",
   "name": "python2"
  },
  "language_info": {
   "codemirror_mode": {
    "name": "ipython",
    "version": 2
   },
   "file_extension": ".py",
   "mimetype": "text/x-python",
   "name": "python",
   "nbconvert_exporter": "python",
   "pygments_lexer": "ipython2",
   "version": "2.7.12"
  }
 },
 "nbformat": 4,
 "nbformat_minor": 2
}
